{
 "cells": [
  {
   "cell_type": "code",
   "execution_count": 1,
   "metadata": {},
   "outputs": [],
   "source": [
    "# Import necessary libraries\n",
    "from keras.models import Sequential\n",
    "from keras.datasets import mnist\n",
    "from tensorflow.keras.utils import to_categorical\n",
    "from keras.layers import Dense\n",
    "import matplotlib.pyplot as plt\n",
    "import numpy as np\n",
    "from sklearn.metrics import confusion_matrix, classification_report"
   ]
  },
  {
   "cell_type": "code",
   "execution_count": 2,
   "metadata": {},
   "outputs": [],
   "source": [
    "dataset = mnist.load_data('mnist.npz')"
   ]
  },
  {
   "cell_type": "code",
   "execution_count": 3,
   "metadata": {},
   "outputs": [
    {
     "data": {
      "text/plain": [
       "2"
      ]
     },
     "execution_count": 3,
     "metadata": {},
     "output_type": "execute_result"
    }
   ],
   "source": [
    "train,test = dataset\n",
    "len(train)"
   ]
  },
  {
   "cell_type": "code",
   "execution_count": 4,
   "metadata": {},
   "outputs": [],
   "source": [
    "X_train, y_train = train\n",
    "X_test, y_test = test"
   ]
  },
  {
   "cell_type": "code",
   "execution_count": 5,
   "metadata": {},
   "outputs": [
    {
     "data": {
      "text/plain": [
       "60000"
      ]
     },
     "execution_count": 5,
     "metadata": {},
     "output_type": "execute_result"
    }
   ],
   "source": [
    "len(X_train)\n"
   ]
  },
  {
   "cell_type": "code",
   "execution_count": 6,
   "metadata": {},
   "outputs": [
    {
     "data": {
      "text/plain": [
       "10000"
      ]
     },
     "execution_count": 6,
     "metadata": {},
     "output_type": "execute_result"
    }
   ],
   "source": [
    "len(X_test)"
   ]
  },
  {
   "cell_type": "code",
   "execution_count": 7,
   "metadata": {},
   "outputs": [
    {
     "data": {
      "text/plain": [
       "(28, 28)"
      ]
     },
     "execution_count": 7,
     "metadata": {},
     "output_type": "execute_result"
    }
   ],
   "source": [
    "X_train[0].shape\n"
   ]
  },
  {
   "cell_type": "code",
   "execution_count": 8,
   "metadata": {},
   "outputs": [
    {
     "data": {
      "text/plain": [
       "2"
      ]
     },
     "execution_count": 8,
     "metadata": {},
     "output_type": "execute_result"
    }
   ],
   "source": [
    "#dimension of the first sample\n",
    "X_train[0].ndim"
   ]
  },
  {
   "cell_type": "code",
   "execution_count": 9,
   "metadata": {},
   "outputs": [],
   "source": [
    "img = X_train[1]"
   ]
  },
  {
   "cell_type": "code",
   "execution_count": 10,
   "metadata": {},
   "outputs": [
    {
     "data": {
      "text/plain": [
       "(60000, 784)"
      ]
     },
     "execution_count": 10,
     "metadata": {},
     "output_type": "execute_result"
    }
   ],
   "source": [
    "X_train = X_train.reshape(-1,28*28)\n",
    "#X_train = X_train.reshape(-1, 1, 28*28)\n",
    "X_train.shape"
   ]
  },
  {
   "cell_type": "code",
   "execution_count": 11,
   "metadata": {},
   "outputs": [
    {
     "data": {
      "text/plain": [
       "(10000, 784)"
      ]
     },
     "execution_count": 11,
     "metadata": {},
     "output_type": "execute_result"
    }
   ],
   "source": [
    "X_test = X_test.reshape(-1, 28*28)\n",
    "X_test.shape"
   ]
  },
  {
   "cell_type": "code",
   "execution_count": 12,
   "metadata": {},
   "outputs": [
    {
     "data": {
      "text/plain": [
       "array([5, 0, 4, ..., 5, 6, 8], dtype=uint8)"
      ]
     },
     "execution_count": 12,
     "metadata": {},
     "output_type": "execute_result"
    }
   ],
   "source": [
    "y_train"
   ]
  },
  {
   "cell_type": "code",
   "execution_count": 13,
   "metadata": {},
   "outputs": [],
   "source": [
    "y_train = to_categorical(y_train)\n"
   ]
  },
  {
   "cell_type": "code",
   "execution_count": 14,
   "metadata": {},
   "outputs": [
    {
     "data": {
      "text/plain": [
       "array([[0., 0., 0., ..., 0., 0., 0.],\n",
       "       [1., 0., 0., ..., 0., 0., 0.],\n",
       "       [0., 0., 0., ..., 0., 0., 0.],\n",
       "       ...,\n",
       "       [0., 0., 0., ..., 0., 0., 0.],\n",
       "       [0., 0., 0., ..., 0., 0., 0.],\n",
       "       [0., 0., 0., ..., 0., 1., 0.]], dtype=float32)"
      ]
     },
     "execution_count": 14,
     "metadata": {},
     "output_type": "execute_result"
    }
   ],
   "source": [
    "y_train"
   ]
  },
  {
   "cell_type": "code",
   "execution_count": 15,
   "metadata": {},
   "outputs": [],
   "source": [
    "model=Sequential()\n",
    "\n",
    "model.add( Dense(units = 512 , input_shape = (784,) , activation = 'relu' ))\n",
    "model.add( Dense(units = 256 , activation = 'relu' ))\n",
    "model.add( Dense(units = 128 , activation = 'relu' ))\n",
    "model.add( Dense(units = 64 , activation = 'relu' ))\n",
    "model.add( Dense(units = 10 , activation = 'softmax' ))"
   ]
  },
  {
   "cell_type": "code",
   "execution_count": 16,
   "metadata": {},
   "outputs": [
    {
     "name": "stdout",
     "output_type": "stream",
     "text": [
      "Model: \"sequential\"\n",
      "_________________________________________________________________\n",
      " Layer (type)                Output Shape              Param #   \n",
      "=================================================================\n",
      " dense (Dense)               (None, 512)               401920    \n",
      "                                                                 \n",
      " dense_1 (Dense)             (None, 256)               131328    \n",
      "                                                                 \n",
      " dense_2 (Dense)             (None, 128)               32896     \n",
      "                                                                 \n",
      " dense_3 (Dense)             (None, 64)                8256      \n",
      "                                                                 \n",
      " dense_4 (Dense)             (None, 10)                650       \n",
      "                                                                 \n",
      "=================================================================\n",
      "Total params: 575050 (2.19 MB)\n",
      "Trainable params: 575050 (2.19 MB)\n",
      "Non-trainable params: 0 (0.00 Byte)\n",
      "_________________________________________________________________\n"
     ]
    }
   ],
   "source": [
    "model.summary()"
   ]
  },
  {
   "cell_type": "code",
   "execution_count": 17,
   "metadata": {},
   "outputs": [],
   "source": [
    "model.compile(\n",
    "    optimizer='adam',\n",
    "    \n",
    "    loss='categorical_crossentropy',\n",
    "    \n",
    "    metrics=['accuracy']\n",
    ")"
   ]
  },
  {
   "cell_type": "code",
   "execution_count": 18,
   "metadata": {},
   "outputs": [
    {
     "name": "stdout",
     "output_type": "stream",
     "text": [
      "Epoch 1/10\n",
      "1500/1500 [==============================] - 30s 17ms/step - loss: 0.7287 - accuracy: 0.8917 - val_loss: 0.2084 - val_accuracy: 0.9438\n",
      "Epoch 2/10\n",
      "1500/1500 [==============================] - 29s 19ms/step - loss: 0.1821 - accuracy: 0.9483 - val_loss: 0.1854 - val_accuracy: 0.9517\n",
      "Epoch 3/10\n",
      "1500/1500 [==============================] - 24s 16ms/step - loss: 0.1471 - accuracy: 0.9587 - val_loss: 0.1844 - val_accuracy: 0.9500\n",
      "Epoch 4/10\n",
      "1500/1500 [==============================] - 24s 16ms/step - loss: 0.1200 - accuracy: 0.9656 - val_loss: 0.1457 - val_accuracy: 0.9628\n",
      "Epoch 5/10\n",
      "1500/1500 [==============================] - 23s 15ms/step - loss: 0.1095 - accuracy: 0.9693 - val_loss: 0.1305 - val_accuracy: 0.9663\n",
      "Epoch 6/10\n",
      "1500/1500 [==============================] - 24s 16ms/step - loss: 0.0927 - accuracy: 0.9743 - val_loss: 0.1375 - val_accuracy: 0.9653\n",
      "Epoch 7/10\n",
      "1500/1500 [==============================] - 24s 16ms/step - loss: 0.0901 - accuracy: 0.9758 - val_loss: 0.1257 - val_accuracy: 0.9668\n",
      "Epoch 8/10\n",
      "1500/1500 [==============================] - 20s 14ms/step - loss: 0.0731 - accuracy: 0.9799 - val_loss: 0.1619 - val_accuracy: 0.9636\n",
      "Epoch 9/10\n",
      "1500/1500 [==============================] - 23s 15ms/step - loss: 0.0649 - accuracy: 0.9832 - val_loss: 0.1232 - val_accuracy: 0.9710\n",
      "Epoch 10/10\n",
      "1500/1500 [==============================] - 23s 15ms/step - loss: 0.0603 - accuracy: 0.9838 - val_loss: 0.1281 - val_accuracy: 0.9704\n"
     ]
    }
   ],
   "source": [
    "\n",
    "history = model.fit(X_train, y_train, epochs=10, validation_split=0.2)"
   ]
  },
  {
   "cell_type": "code",
   "execution_count": 19,
   "metadata": {},
   "outputs": [
    {
     "data": {
      "image/png": "[encoded data removed]",
      "text/plain": [
       "<Figure size 1200x400 with 2 Axes>"
      ]
     },
     "metadata": {},
     "output_type": "display_data"
    }
   ],
   "source": [
    "# Plot training history (loss and accuracy)\n",
    "plt.figure(figsize=(12, 4))\n",
    "plt.subplot(1, 2, 1)\n",
    "plt.plot(history.history['loss'], label='Training Loss')\n",
    "plt.plot(history.history['val_loss'], label='Validation Loss')\n",
    "plt.xlabel('Epoch')\n",
    "plt.ylabel('Loss')\n",
    "plt.legend()\n",
    "plt.title('Training and Validation Loss')\n",
    "\n",
    "plt.subplot(1, 2, 2)\n",
    "plt.plot(history.history['accuracy'], label='Training Accuracy')\n",
    "plt.plot(history.history['val_accuracy'], label='Validation Accuracy')\n",
    "plt.xlabel('Epoch')\n",
    "plt.ylabel('Accuracy')\n",
    "plt.legend()\n",
    "plt.title('Training and Validation Accuracy')\n",
    "\n",
    "plt.show()"
   ]
  },
  {
   "cell_type": "code",
   "execution_count": 20,
   "metadata": {},
   "outputs": [],
   "source": [
    "# Select multiple sample images from the test set (e.g., the first 10 images)\n",
    "sample_images = X_test"
   ]
  },
  {
   "cell_type": "code",
   "execution_count": 21,
   "metadata": {},
   "outputs": [
    {
     "name": "stdout",
     "output_type": "stream",
     "text": [
      "313/313 [==============================] - 2s 4ms/step\n"
     ]
    }
   ],
   "source": [
    "# Use the trained model to make predictions on the selected images\n",
    "predictions = model.predict(sample_images)"
   ]
  },
  {
   "cell_type": "code",
   "execution_count": 22,
   "metadata": {},
   "outputs": [
    {
     "name": "stdout",
     "output_type": "stream",
     "text": [
      "[[7.67838793e-10 9.78482504e-08 2.48245708e-08 ... 9.99996901e-01\n",
      "  3.89044796e-09 2.70722876e-06]\n",
      " [4.17309289e-15 1.59935704e-13 1.00000000e+00 ... 2.49768279e-11\n",
      "  2.54945022e-17 5.70145321e-18]\n",
      " [1.06111493e-08 1.00000000e+00 6.06820288e-11 ... 9.32923044e-11\n",
      "  9.37694278e-09 2.22799179e-17]\n",
      " ...\n",
      " [1.36407642e-16 4.84133412e-15 1.57612068e-09 ... 1.16288703e-07\n",
      "  3.30449481e-08 1.10856995e-08]\n",
      " [6.12751244e-17 1.35393984e-26 2.72620862e-20 ... 1.56294850e-17\n",
      "  3.24890174e-17 1.29397703e-16]\n",
      " [1.73713464e-14 6.48035922e-12 5.18332495e-15 ... 3.36896360e-34\n",
      "  2.24199880e-14 2.14626225e-25]]\n"
     ]
    }
   ],
   "source": [
    "# Print the predictions\n",
    "print(predictions)"
   ]
  },
  {
   "cell_type": "code",
   "execution_count": 23,
   "metadata": {},
   "outputs": [],
   "source": [
    "# Convert predictions to class labels\n",
    "predicted_labels = np.argmax(predictions, axis=1)"
   ]
  },
  {
   "cell_type": "code",
   "execution_count": 24,
   "metadata": {},
   "outputs": [
    {
     "name": "stdout",
     "output_type": "stream",
     "text": [
      "Predicted Labels: [7 2 1 ... 4 5 6]\n"
     ]
    }
   ],
   "source": [
    "# Print the predicted labels\n",
    "print(\"Predicted Labels:\", predicted_labels)"
   ]
  },
  {
   "cell_type": "code",
   "execution_count": 25,
   "metadata": {},
   "outputs": [
    {
     "name": "stdout",
     "output_type": "stream",
     "text": [
      "313/313 [==============================] - 2s 6ms/step\n",
      "Confusion Matrix:\n",
      " [[ 974    0    1    1    0    1    1    1    1    0]\n",
      " [   0 1110    5    5    1    1    1    3    9    0]\n",
      " [   4    1  999   10    0    0    1   11    6    0]\n",
      " [   0    0    5  988    0    7    0    4    2    4]\n",
      " [   1    1    2    0  941    0    5    7    1   24]\n",
      " [   6    0    0   18    2  861    2    1    1    1]\n",
      " [  14    2    1    1    5    5  925    1    3    1]\n",
      " [   1    0    9    7    0    1    0 1006    0    4]\n",
      " [   6    0    1    6    4    7    1    5  937    7]\n",
      " [   3    0    0    4    9    4    0   15    4  970]]\n",
      "Classification Report:\n",
      "               precision    recall  f1-score   support\n",
      "\n",
      "           0       0.97      0.99      0.98       980\n",
      "           1       1.00      0.98      0.99      1135\n",
      "           2       0.98      0.97      0.97      1032\n",
      "           3       0.95      0.98      0.96      1010\n",
      "           4       0.98      0.96      0.97       982\n",
      "           5       0.97      0.97      0.97       892\n",
      "           6       0.99      0.97      0.98       958\n",
      "           7       0.95      0.98      0.97      1028\n",
      "           8       0.97      0.96      0.97       974\n",
      "           9       0.96      0.96      0.96      1009\n",
      "\n",
      "    accuracy                           0.97     10000\n",
      "   macro avg       0.97      0.97      0.97     10000\n",
      "weighted avg       0.97      0.97      0.97     10000\n",
      "\n"
     ]
    }
   ],
   "source": [
    "# Generate a confusion matrix and classification report\n",
    "y_true = y_test\n",
    "y_pred = model.predict(X_test)\n",
    "y_pred_labels = np.argmax(y_pred, axis=1)\n",
    "confusion = confusion_matrix(y_true, y_pred_labels)\n",
    "classification_report_str = classification_report(y_true, y_pred_labels)\n",
    "\n",
    "print(\"Confusion Matrix:\\n\", confusion)\n",
    "print(\"Classification Report:\\n\", classification_report_str)"
   ]
  },
  {
   "cell_type": "code",
   "execution_count": 26,
   "metadata": {},
   "outputs": [
    {
     "name": "stdout",
     "output_type": "stream",
     "text": [
      "313/313 [==============================] - 2s 5ms/step\n"
     ]
    },
    {
     "data": {
      "image/png": "[encoded data removed]",
      "text/plain": [
       "<Figure size 1200x600 with 15 Axes>"
      ]
     },
     "metadata": {},
     "output_type": "display_data"
    }
   ],
   "source": [
    "# Use the trained model to make predictions on the test set\n",
    "predictions = model.predict(X_test)\n",
    "\n",
    "# Convert predictions to class labels\n",
    "predicted_labels = np.argmax(predictions, axis=1)\n",
    "\n",
    "# Select some random test samples (e.g., the first 15)\n",
    "num_samples_to_display = 15\n",
    "sample_indices = np.random.choice(len(X_test), num_samples_to_display, replace=False)\n",
    "\n",
    "# Create a figure to display the comparison\n",
    "plt.figure(figsize=(12, 6))\n",
    "\n",
    "for i, sample_index in enumerate(sample_indices):\n",
    "    plt.subplot(3, 5, i + 1)\n",
    "    plt.imshow(X_test[sample_index].reshape(28, 28), cmap='gray')\n",
    "    plt.title(f\"Actual: {y_test[sample_index]}\\nPredicted: {predicted_labels[sample_index]}\")\n",
    "    plt.axis('off')\n",
    "\n",
    "plt.tight_layout()\n",
    "plt.show()"
   ]
  }
 ],
 "metadata": {
  "kernelspec": {
   "display_name": "Python 3",
   "language": "python",
   "name": "python3"
  },
  "language_info": {
   "codemirror_mode": {
    "name": "ipython",
    "version": 3
   },
   "file_extension": ".py",
   "mimetype": "text/x-python",
   "name": "python",
   "nbconvert_exporter": "python",
   "pygments_lexer": "ipython3",
   "version": "3.10.5"
  }
 },
 "nbformat": 4,
 "nbformat_minor": 2
}
